{
 "cells": [
  {
   "cell_type": "code",
   "execution_count": 1,
   "metadata": {
    "collapsed": false
   },
   "outputs": [
    {
     "ename": "SyntaxError",
     "evalue": "invalid syntax (<ipython-input-1-736b7b401d20>, line 19)",
     "output_type": "error",
     "traceback": [
      "\u001b[1;36m  File \u001b[1;32m\"<ipython-input-1-736b7b401d20>\"\u001b[1;36m, line \u001b[1;32m19\u001b[0m\n\u001b[1;33m    B[:, 1] = B[:, 1] - B[:, 1] @ B[:, 0] * B[:, 0]\u001b[0m\n\u001b[1;37m                                ^\u001b[0m\n\u001b[1;31mSyntaxError\u001b[0m\u001b[1;31m:\u001b[0m invalid syntax\n"
     ]
    }
   ],
   "source": [
    "# GRADED FUNCTION\n",
    "import numpy as np\n",
    "import numpy.linalg as la\n",
    "\n",
    "verySmallNumber = 1e-14 # That's 1×10⁻¹⁴ = 0.00000000000001\n",
    "\n",
    "# Our first function will perform the Gram-Schmidt procedure for 4 basis vectors.\n",
    "# We'll take this list of vectors as the columns of a matrix, A.\n",
    "# We'll then go through the vectors one at a time and set them to be orthogonal\n",
    "# to all the vectors that came before it. Before normalising.\n",
    "# Follow the instructions inside the function at each comment.\n",
    "# You will be told where to add code to complete the function.\n",
    "def gsBasis4(A) :\n",
    "    B = np.array(A, dtype=np.float_) # Make B as a copy of A, since we're going to alter it's values.\n",
    "    # The zeroth column is easy, since it has no other vectors to make it normal to.\n",
    "    # All that needs to be done is to normalise it. I.e. divide by its modulus, or norm.\n",
    "    B[:, 0] = B[:, 0] / la.norm(B[:, 0])\n",
    "    # For the first column, we need to subtract any overlap with our new zeroth vector.\n",
    "    B[:, 1] = B[:, 1] - B[:, 1] @ B[:, 0] * B[:, 0]\n",
    "    # If there's anything left after that subtraction, then B[:, 1] is linearly independant of B[:, 0]\n",
    "    # If this is the case, we can normalise it. Otherwise we'll set that vector to zero.\n",
    "    if la.norm(B[:, 1]) > verySmallNumber :\n",
    "        B[:, 1] = B[:, 1] / la.norm(B[:, 1])\n",
    "    else :\n",
    "        B[:, 1] = np.zeros_like(B[:, 1])\n",
    "    # Now we need to repeat the process for column 2.\n",
    "    # Insert two lines of code, the first to subtract the overlap with the zeroth vector,\n",
    "    # and the second to subtract the overlap with the first.\n",
    "    B[:,2] = B[:,2] - B[:,2] @ B[:, 0] * B[:, 0]\n",
    "    B[:,2] = B[:,2] - B[:,2] @ B[:, 1] * B[:, 1]\n",
    "    # Again we'll need to normalise our new vector.\n",
    "    # Copy and adapt the normalisation fragment from above to column 2.\n",
    "    if la.norm(B[:, 2]) > verySmallNumber :\n",
    "        B[:, 2] = B[:, 2] / la.norm(B[:, 2])\n",
    "    else :\n",
    "        B[:, 2] = np.zeros_like(B[:, 2])\n",
    "    \n",
    "    # Finally, column three:\n",
    "    # Insert code to subtract the overlap with the first three vectors.\n",
    "    B[:,3] = B[:,3] - B[:,3] @ B[:, 0] * B[:, 0]\n",
    "    B[:,3] = B[:,3] - B[:,3] @ B[:, 1] * B[:, 1]\n",
    "    B[:,3] = B[:,3] - B[:,3] @ B[:, 2] * B[:, 2]\n",
    "    \n",
    "    # Now normalise if possible\n",
    "    if la.norm(B[:, 3]) > verySmallNumber :\n",
    "        B[:, 3] = B[:,3] / la.norm(B[:, 3])\n",
    "    else :\n",
    "        B[:, 3] = np.zeros_like(B[:, 3])\n",
    "        \n",
    "    # Finally, we return the result:\n",
    "    return B\n",
    "\n",
    "# The second part of this exercise will generalise the procedure.\n",
    "# Previously, we could only have four vectors, and there was a lot of repeating in the code.\n",
    "# We'll use a for-loop here to iterate the process for each vector.\n",
    "def gsBasis(A) :\n",
    "    B = np.array(A, dtype=np.float_) # Make B as a copy of A, since we're going to alter it's values.\n",
    "    # Loop over all vectors, starting with zero, label them with i\n",
    "    for i in range(B.shape[1]) :\n",
    "        # Inside that loop, loop over all previous vectors, j, to subtract.\n",
    "        for j in range(i) :\n",
    "            # Complete the code to subtract the overlap with previous vectors.\n",
    "            # you'll need the current vector B[:, i] and a previous vector B[:, j]\n",
    "            B[:, i] = B[:,i] - B[:,i] @ B[:,j] * B[:,j]\n",
    "        # Next insert code to do the normalisation test for B[:, i]\n",
    "        if la.norm(B[:,i]) > verySmallNumber :\n",
    "            B[:, i] = B[:, i] / la.norm(B[:, i])\n",
    "        else:\n",
    "            B[:, i] = np.zeros_like(B[:, i])\n",
    "    # Finally, we return the result:\n",
    "    return B\n",
    "\n",
    "# This function uses the Gram-schmidt process to calculate the dimension\n",
    "# spanned by a list of vectors.\n",
    "# Since each vector is normalised to one, or is zero,\n",
    "# the sum of all the norms will be the dimension.\n",
    "def dimensions(A) :\n",
    "    return np.sum(la.norm(gsBasis(A), axis=0))\n"
   ]
  },
  {
   "cell_type": "code",
   "execution_count": null,
   "metadata": {
    "collapsed": true
   },
   "outputs": [],
   "source": [
    "V = np.array([[1,0,2,6],\n",
    "              [0,1,8,2],\n",
    "              [2,8,3,1],\n",
    "              [1,-6,2,3]], dtype=np.float_)\n",
    "gsBasis4(V)"
   ]
  }
 ],
 "metadata": {
  "kernelspec": {
   "display_name": "Python 2",
   "language": "python",
   "name": "python2"
  },
  "language_info": {
   "codemirror_mode": {
    "name": "ipython",
    "version": 2
   },
   "file_extension": ".py",
   "mimetype": "text/x-python",
   "name": "python",
   "nbconvert_exporter": "python",
   "pygments_lexer": "ipython2",
   "version": "2.7.11"
  }
 },
 "nbformat": 4,
 "nbformat_minor": 0
}
